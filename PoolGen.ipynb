{
 "cells": [
  {
   "cell_type": "markdown",
   "id": "df978f33",
   "metadata": {},
   "source": [
    "## Initial Design "
   ]
  },
  {
   "cell_type": "code",
   "execution_count": 1,
   "id": "df93b0db",
   "metadata": {},
   "outputs": [
    {
     "name": "stdout",
     "output_type": "stream",
     "text": [
      "30\n"
     ]
    }
   ],
   "source": [
    "from skopt.space.space import Real, Integer\n",
    "from skopt.sampler import Lhs\n",
    "from skopt.space import Space\n",
    "import numpy as np\n",
    "import pandas as pd \n",
    "import random\n",
    "\n",
    "dim=6\n",
    "\n",
    "lb=-5.12\n",
    "ub=5.12\n",
    "\n",
    "NN=2*(dim+1) #dim+1 \n",
    "\n",
    "space = Space([Real(lb,ub),Real(lb,ub),Real(lb,ub),Real(lb,ub),Real(lb,ub),\n",
    "              Real(lb,ub)])\n",
    "\n",
    "lhs = Lhs(criterion=\"maximin\", iterations=10000)\n",
    "\n",
    "## generate random seeds \n",
    "seed= random.sample(range(1,100000), 30)\n",
    "print(len(np.unique(seed)))\n",
    "\n",
    "j=1\n",
    "for i in seed:\n",
    "    x = lhs.generate(space.dimensions,NN,random_state=i)\n",
    "    pd.DataFrame(x).to_csv('./Rast-6d/pool_'+str(j))\n",
    "    j=j+1"
   ]
  },
  {
   "cell_type": "code",
   "execution_count": 2,
   "id": "edbc3a99",
   "metadata": {},
   "outputs": [
    {
     "name": "stdout",
     "output_type": "stream",
     "text": [
      "30\n"
     ]
    }
   ],
   "source": [
    "from skopt.space.space import Real, Integer\n",
    "from skopt.sampler import Lhs\n",
    "from skopt.space import Space\n",
    "import numpy as np\n",
    "import pandas as pd \n",
    "import random\n",
    "\n",
    "dim=15\n",
    "\n",
    "lb=-5.12\n",
    "ub=5.12\n",
    "\n",
    "NN=2*(dim+1)\n",
    "\n",
    "space = Space([Real(lb,ub),Real(lb,ub),Real(lb,ub),Real(lb,ub),Real(lb,ub),\n",
    "              Real(lb,ub),Real(lb,ub),Real(lb,ub),Real(lb,ub),Real(lb,ub),\n",
    "              Real(lb,ub),Real(lb,ub),Real(lb,ub),Real(lb,ub),Real(lb,ub)])\n",
    "\n",
    "lhs = Lhs(criterion=\"maximin\", iterations=10000)\n",
    "\n",
    "## generate random seeds \n",
    "seed= random.sample(range(1,100000), 30)\n",
    "print(len(np.unique(seed)))\n",
    "\n",
    "j=1\n",
    "for i in seed:\n",
    "    x = lhs.generate(space.dimensions,NN,random_state=i)\n",
    "    pd.DataFrame(x).to_csv('./Rast-15d/pool_'+str(j))\n",
    "    j=j+1"
   ]
  },
  {
   "cell_type": "code",
   "execution_count": 1,
   "id": "607ab093",
   "metadata": {},
   "outputs": [
    {
     "name": "stdout",
     "output_type": "stream",
     "text": [
      "30\n"
     ]
    }
   ],
   "source": [
    "from skopt.space.space import Real, Integer\n",
    "from skopt.sampler import Lhs\n",
    "from skopt.space import Space\n",
    "import numpy as np\n",
    "import pandas as pd \n",
    "import random\n",
    "\n",
    "dim=6\n",
    "\n",
    "lb=-5\n",
    "ub=5\n",
    "\n",
    "NN=2*(dim+1)\n",
    "\n",
    "space = Space([Real(lb,ub),Real(lb,ub),Real(lb,ub),Real(lb,ub),Real(lb,ub),\n",
    "              Real(lb,ub)])\n",
    "\n",
    "lhs = Lhs(criterion=\"maximin\", iterations=10000)\n",
    "\n",
    "## generate random seeds \n",
    "seed= random.sample(range(1,100000), 30)\n",
    "print(len(np.unique(seed)))\n",
    "\n",
    "j=1\n",
    "for i in seed:\n",
    "    x = lhs.generate(space.dimensions,NN,random_state=i)\n",
    "    pd.DataFrame(x).to_csv('./Levy-6d/pool_'+str(j))\n",
    "    j=j+1"
   ]
  },
  {
   "cell_type": "code",
   "execution_count": 2,
   "id": "84c8c291",
   "metadata": {},
   "outputs": [
    {
     "name": "stdout",
     "output_type": "stream",
     "text": [
      "30\n"
     ]
    }
   ],
   "source": [
    "from skopt.space.space import Real, Integer\n",
    "from skopt.sampler import Lhs\n",
    "from skopt.space import Space\n",
    "import numpy as np\n",
    "import pandas as pd \n",
    "import random\n",
    "\n",
    "dim=6\n",
    "\n",
    "lb=-2.048\n",
    "ub=2.048\n",
    "\n",
    "NN=2*(dim+1)\n",
    "\n",
    "space = Space([Real(lb,ub),Real(lb,ub),Real(lb,ub),Real(lb,ub),Real(lb,ub),\n",
    "              Real(lb,ub)])\n",
    "\n",
    "lhs = Lhs(criterion=\"maximin\", iterations=10000)\n",
    "\n",
    "## generate random seeds \n",
    "seed= random.sample(range(1,100000), 30)\n",
    "print(len(np.unique(seed)))\n",
    "\n",
    "j=1\n",
    "for i in seed:\n",
    "    x = lhs.generate(space.dimensions,NN,random_state=i)\n",
    "    pd.DataFrame(x).to_csv('./Rosen-6d/pool_'+str(j))\n",
    "    j=j+1"
   ]
  },
  {
   "cell_type": "code",
   "execution_count": 4,
   "id": "5a7f481f",
   "metadata": {},
   "outputs": [
    {
     "name": "stdout",
     "output_type": "stream",
     "text": [
      "30\n"
     ]
    }
   ],
   "source": [
    "from skopt.space.space import Real, Integer\n",
    "from skopt.sampler import Lhs\n",
    "from skopt.space import Space\n",
    "import numpy as np\n",
    "import pandas as pd \n",
    "import random\n",
    "\n",
    "dim=15\n",
    "\n",
    "lb=-5\n",
    "ub=5\n",
    "\n",
    "NN=2*(dim+1)\n",
    "\n",
    "space = Space([Real(lb,ub),Real(lb,ub),Real(lb,ub),Real(lb,ub),Real(lb,ub),\n",
    "              Real(lb,ub),Real(lb,ub),Real(lb,ub),Real(lb,ub),Real(lb,ub),\n",
    "               Real(lb,ub),Real(lb,ub),Real(lb,ub),Real(lb,ub),Real(lb,ub)])\n",
    "\n",
    "lhs = Lhs(criterion=\"maximin\", iterations=10000)\n",
    "\n",
    "## generate random seeds \n",
    "seed= random.sample(range(1,100000), 30)\n",
    "print(len(np.unique(seed)))\n",
    "\n",
    "j=1\n",
    "for i in seed:\n",
    "    x = lhs.generate(space.dimensions,NN,random_state=i)\n",
    "    pd.DataFrame(x).to_csv('./Levy-15d/pool_'+str(j))\n",
    "    j=j+1"
   ]
  },
  {
   "cell_type": "code",
   "execution_count": 5,
   "id": "18e51a4f",
   "metadata": {},
   "outputs": [
    {
     "name": "stdout",
     "output_type": "stream",
     "text": [
      "30\n"
     ]
    }
   ],
   "source": [
    "from skopt.space.space import Real, Integer\n",
    "from skopt.sampler import Lhs\n",
    "from skopt.space import Space\n",
    "import numpy as np\n",
    "import pandas as pd \n",
    "import random\n",
    "\n",
    "dim=15\n",
    "\n",
    "lb=-2.048\n",
    "ub=2.048\n",
    "\n",
    "NN=2*(dim+1)\n",
    "\n",
    "space = Space([Real(lb,ub),Real(lb,ub),Real(lb,ub),Real(lb,ub),Real(lb,ub),\n",
    "              Real(lb,ub),Real(lb,ub),Real(lb,ub),Real(lb,ub),Real(lb,ub),\n",
    "               Real(lb,ub),Real(lb,ub),Real(lb,ub),Real(lb,ub),Real(lb,ub)])\n",
    "\n",
    "lhs = Lhs(criterion=\"maximin\", iterations=10000)\n",
    "\n",
    "## generate random seeds \n",
    "seed= random.sample(range(1,100000), 30)\n",
    "print(len(np.unique(seed)))\n",
    "\n",
    "j=1\n",
    "for i in seed:\n",
    "    x = lhs.generate(space.dimensions,NN,random_state=i)\n",
    "    pd.DataFrame(x).to_csv('./Rosen-15d/pool_'+str(j))\n",
    "    j=j+1"
   ]
  },
  {
   "cell_type": "code",
   "execution_count": null,
   "id": "ccf6fe62",
   "metadata": {},
   "outputs": [],
   "source": [
    "from skopt.space.space import Real, Integer\n",
    "from skopt.sampler import Lhs\n",
    "from skopt.space import Space\n",
    "import numpy as np\n",
    "import pandas as pd \n",
    "import random\n",
    "\n",
    "dim=30\n",
    "\n",
    "lb=-5\n",
    "ub=5\n",
    "\n",
    "NN=2*(dim+1)\n",
    "\n",
    "space = Space([Real(lb,ub),Real(lb,ub),Real(lb,ub),Real(lb,ub),Real(lb,ub),\n",
    "              Real(lb,ub),Real(lb,ub),Real(lb,ub),Real(lb,ub),Real(lb,ub),\n",
    "               Real(lb,ub),Real(lb,ub),Real(lb,ub),Real(lb,ub),Real(lb,ub),\n",
    "               Real(lb,ub),Real(lb,ub),Real(lb,ub),Real(lb,ub),Real(lb,ub),\n",
    "               Real(lb,ub),Real(lb,ub),Real(lb,ub),Real(lb,ub),Real(lb,ub),\n",
    "               Real(lb,ub),Real(lb,ub),Real(lb,ub),Real(lb,ub),Real(lb,ub)])\n",
    "\n",
    "lhs = Lhs(criterion=\"maximin\", iterations=10000)\n",
    "\n",
    "## generate random seeds \n",
    "seed= random.sample(range(1,100000), 30)\n",
    "print(len(np.unique(seed)))\n",
    "\n",
    "j=1\n",
    "for i in seed:\n",
    "    x = lhs.generate(space.dimensions,NN,random_state=i)\n",
    "    pd.DataFrame(x).to_csv('./Levy-30d/pool_'+str(j))\n",
    "    j=j+1\n",
    "    "
   ]
  },
  {
   "cell_type": "code",
   "execution_count": null,
   "id": "c357e221",
   "metadata": {},
   "outputs": [],
   "source": [
    "from skopt.space.space import Real, Integer\n",
    "from skopt.sampler import Lhs\n",
    "from skopt.space import Space\n",
    "import numpy as np\n",
    "import pandas as pd \n",
    "import random\n",
    "\n",
    "dim=30\n",
    "\n",
    "lb=-2.048\n",
    "ub=2.048\n",
    "\n",
    "NN=2*(dim+1)\n",
    "\n",
    "space = Space([Real(lb,ub),Real(lb,ub),Real(lb,ub),Real(lb,ub),Real(lb,ub),\n",
    "              Real(lb,ub),Real(lb,ub),Real(lb,ub),Real(lb,ub),Real(lb,ub),\n",
    "               Real(lb,ub),Real(lb,ub),Real(lb,ub),Real(lb,ub),Real(lb,ub),\n",
    "               Real(lb,ub),Real(lb,ub),Real(lb,ub),Real(lb,ub),Real(lb,ub),\n",
    "               Real(lb,ub),Real(lb,ub),Real(lb,ub),Real(lb,ub),Real(lb,ub),\n",
    "               Real(lb,ub),Real(lb,ub),Real(lb,ub),Real(lb,ub),Real(lb,ub)])\n",
    "\n",
    "lhs = Lhs(criterion=\"maximin\", iterations=10000)\n",
    "\n",
    "## generate random seeds \n",
    "seed= random.sample(range(1,100000), 30)\n",
    "print(len(np.unique(seed)))\n",
    "\n",
    "j=1\n",
    "for i in seed:\n",
    "    x = lhs.generate(space.dimensions,NN,random_state=i)\n",
    "    pd.DataFrame(x).to_csv('./Rosen-30d/pool_'+str(j))\n",
    "    j=j+1"
   ]
  },
  {
   "cell_type": "code",
   "execution_count": null,
   "id": "13bfed97",
   "metadata": {},
   "outputs": [],
   "source": []
  }
 ],
 "metadata": {
  "kernelspec": {
   "display_name": "Python 3 (ipykernel)",
   "language": "python",
   "name": "python3"
  },
  "language_info": {
   "codemirror_mode": {
    "name": "ipython",
    "version": 3
   },
   "file_extension": ".py",
   "mimetype": "text/x-python",
   "name": "python",
   "nbconvert_exporter": "python",
   "pygments_lexer": "ipython3",
   "version": "3.9.7"
  }
 },
 "nbformat": 4,
 "nbformat_minor": 5
}
